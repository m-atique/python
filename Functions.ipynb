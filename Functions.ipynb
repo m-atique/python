{
 "cells": [
  {
   "cell_type": "markdown",
   "metadata": {},
   "source": [
    "# Functiions paractice page\n"
   ]
  },
  {
   "cell_type": "code",
   "execution_count": 1,
   "metadata": {},
   "outputs": [],
   "source": [
    "def sum_num(n1, *l): # function with arbitrary arrguments \n",
    "    return n1 +sum(l)\n",
    "    "
   ]
  },
  {
   "cell_type": "code",
   "execution_count": 2,
   "metadata": {},
   "outputs": [
    {
     "name": "stdout",
     "output_type": "stream",
     "text": [
      "60\n"
     ]
    }
   ],
   "source": [
    "print(sum_num(12,12,12,12,12))"
   ]
  },
  {
   "cell_type": "code",
   "execution_count": 3,
   "metadata": {},
   "outputs": [
    {
     "name": "stdout",
     "output_type": "stream",
     "text": [
      "502175\n"
     ]
    }
   ],
   "source": [
    "print (sum_num(1232,3434,234234,234342,2123,1231,213,123,123,1321,13,21321,12,2132,321))"
   ]
  },
  {
   "cell_type": "code",
   "execution_count": 4,
   "metadata": {},
   "outputs": [],
   "source": [
    "def printing_modals(unprinted, completed_job):\n",
    "    while unprinted:\n",
    "        current_job = unprinted.pop()\n",
    "        print(f\" {current_job} order in pipeline\")\n",
    "        completed_job.append(current_job)\n",
    "def completed(completed_job):\n",
    "    for order in completed_job:\n",
    "        print(f\"your {order} print is ready\")\n"
   ]
  },
  {
   "cell_type": "code",
   "execution_count": 5,
   "metadata": {},
   "outputs": [
    {
     "name": "stdout",
     "output_type": "stream",
     "text": [
      " kodak order in pipeline\n",
      " abbot order in pipeline\n",
      " colgate order in pipeline\n",
      "your kodak print is ready\n",
      "your abbot print is ready\n",
      "your colgate print is ready\n"
     ]
    }
   ],
   "source": [
    "unprinted=[\"colgate\", \"abbot\",\"kodak\"]\n",
    "completed_job =[]\n",
    "printing_modals(unprinted, completed_job)\n",
    "completed(completed_job)"
   ]
  },
  {
   "cell_type": "code",
   "execution_count": 7,
   "metadata": {},
   "outputs": [],
   "source": [
    "# this a function with arbitrary strings\n",
    "\n",
    "def pizzaorder(): \n",
    "    size = input(\" Please metion the size\")\n",
    "    flaoure = input(\"Flavour please\")\n",
    "    toppings = [ \"mashroons\", \"olive\", \" onions\", \"crunch\", \"cream\"]\n",
    "    while True:\n",
    "        topping_list =[]\n",
    "        topping = input(\"Toppins please\")\n",
    "        topping_list.append(topping)\n",
    "        if topping == \"q\":\n",
    "            break\n",
    "       \n",
    "    return topping_list\n",
    "    \n",
    "#     for i in toppings:\n",
    "#         if topping[i] != toppings[i]:\n",
    "#             print(f\"{topping} is not available please select from list\")\n",
    "#         elif topping != toppings[i]:\n",
    "#             print(f\" your {flavour} pizza of {size} inches with {toppings} toppinns is ready\" )"
   ]
  },
  {
   "cell_type": "code",
   "execution_count": 8,
   "metadata": {},
   "outputs": [
    {
     "name": "stdout",
     "output_type": "stream",
     "text": [
      " Please metion the size12\n",
      "Flavour pleasew\n",
      "Toppins pleasea\n",
      "Toppins pleaseb\n",
      "Toppins pleasec\n",
      "Toppins pleaseq\n"
     ]
    },
    {
     "data": {
      "text/plain": [
       "['q']"
      ]
     },
     "execution_count": 8,
     "metadata": {},
     "output_type": "execute_result"
    }
   ],
   "source": [
    "pizzaorder()"
   ]
  },
  {
   "cell_type": "markdown",
   "metadata": {},
   "source": [
    " "
   ]
  },
  {
   "cell_type": "code",
   "execution_count": null,
   "metadata": {},
   "outputs": [],
   "source": []
  }
 ],
 "metadata": {
  "kernelspec": {
   "display_name": "Python 3",
   "language": "python",
   "name": "python3"
  },
  "language_info": {
   "codemirror_mode": {
    "name": "ipython",
    "version": 3
   },
   "file_extension": ".py",
   "mimetype": "text/x-python",
   "name": "python",
   "nbconvert_exporter": "python",
   "pygments_lexer": "ipython3",
   "version": "3.7.6"
  }
 },
 "nbformat": 4,
 "nbformat_minor": 4
}
