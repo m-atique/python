{
 "cells": [
  {
   "cell_type": "markdown",
   "metadata": {},
   "source": [
    "# Functions"
   ]
  },
  {
   "cell_type": "markdown",
   "metadata": {},
   "source": [
    "## 8.1"
   ]
  },
  {
   "cell_type": "code",
   "execution_count": 2,
   "metadata": {},
   "outputs": [],
   "source": [
    "def display_message():\n",
    "    print(\" I am Learning python functions\")"
   ]
  },
  {
   "cell_type": "code",
   "execution_count": 3,
   "metadata": {},
   "outputs": [
    {
     "name": "stdout",
     "output_type": "stream",
     "text": [
      " I am Learning python functions\n"
     ]
    }
   ],
   "source": [
    "display_message()"
   ]
  },
  {
   "cell_type": "markdown",
   "metadata": {},
   "source": [
    "## 8.2"
   ]
  },
  {
   "cell_type": "code",
   "execution_count": 5,
   "metadata": {},
   "outputs": [],
   "source": [
    "def favorite_book(title):\n",
    "    print(f\"My favorite book is {title}\")"
   ]
  },
  {
   "cell_type": "code",
   "execution_count": 6,
   "metadata": {},
   "outputs": [
    {
     "name": "stdout",
     "output_type": "stream",
     "text": [
      "My favorite book is Quran\n"
     ]
    }
   ],
   "source": [
    "favorite_book(\"Quran\")"
   ]
  },
  {
   "cell_type": "markdown",
   "metadata": {},
   "source": [
    "## 8.3"
   ]
  },
  {
   "cell_type": "code",
   "execution_count": 13,
   "metadata": {},
   "outputs": [],
   "source": [
    "def make_shirt(size, msg):\n",
    "    print(f\"Size = {size} \\n {msg}\")"
   ]
  },
  {
   "cell_type": "code",
   "execution_count": 15,
   "metadata": {},
   "outputs": [
    {
     "name": "stdout",
     "output_type": "stream",
     "text": [
      "Size = xl \n",
      " beutiful\n"
     ]
    }
   ],
   "source": [
    "make_shirt(\"xl\",\"beutiful\") "
   ]
  },
  {
   "cell_type": "code",
   "execution_count": 16,
   "metadata": {},
   "outputs": [
    {
     "name": "stdout",
     "output_type": "stream",
     "text": [
      "Size = M \n",
      " Cooool\n"
     ]
    }
   ],
   "source": [
    "make_shirt(msg =\"Cooool\", size = \"M\")"
   ]
  },
  {
   "cell_type": "markdown",
   "metadata": {},
   "source": [
    "## 8.4"
   ]
  },
  {
   "cell_type": "code",
   "execution_count": 17,
   "metadata": {},
   "outputs": [],
   "source": [
    "def make_shirt(size =\"L\", msg= \"I love Python\"):\n",
    "    print(f\"Size = {size} \\n {msg}\")"
   ]
  },
  {
   "cell_type": "code",
   "execution_count": 18,
   "metadata": {},
   "outputs": [
    {
     "name": "stdout",
     "output_type": "stream",
     "text": [
      "Size = L \n",
      " I love Python\n"
     ]
    }
   ],
   "source": [
    "make_shirt()"
   ]
  },
  {
   "cell_type": "code",
   "execution_count": 19,
   "metadata": {},
   "outputs": [
    {
     "name": "stdout",
     "output_type": "stream",
     "text": [
      "Size = M \n",
      " I love Python\n"
     ]
    }
   ],
   "source": [
    "make_shirt(\"M\")"
   ]
  },
  {
   "cell_type": "code",
   "execution_count": 20,
   "metadata": {},
   "outputs": [
    {
     "name": "stdout",
     "output_type": "stream",
     "text": [
      "Size = S \n",
      " I love to code\n"
     ]
    }
   ],
   "source": [
    "make_shirt(\"S\",\"I love to code\")"
   ]
  },
  {
   "cell_type": "markdown",
   "metadata": {},
   "source": [
    "## 8.5"
   ]
  },
  {
   "cell_type": "code",
   "execution_count": 25,
   "metadata": {},
   "outputs": [],
   "source": [
    "def describe_city(city = \"Karachi\",country = \"pakistan\"):\n",
    "    print(f\"The {city} is in {country}\")"
   ]
  },
  {
   "cell_type": "code",
   "execution_count": 26,
   "metadata": {},
   "outputs": [
    {
     "name": "stdout",
     "output_type": "stream",
     "text": [
      "The Karachi is in pakistan\n"
     ]
    }
   ],
   "source": [
    "describe_city()"
   ]
  },
  {
   "cell_type": "code",
   "execution_count": 27,
   "metadata": {},
   "outputs": [
    {
     "name": "stdout",
     "output_type": "stream",
     "text": [
      "The lahore is in pakistan\n"
     ]
    }
   ],
   "source": [
    "describe_city(\"lahore\")"
   ]
  },
  {
   "cell_type": "code",
   "execution_count": 28,
   "metadata": {},
   "outputs": [
    {
     "name": "stdout",
     "output_type": "stream",
     "text": [
      "The islamabad is in pakistan\n"
     ]
    }
   ],
   "source": [
    "describe_city(\"islamabad\")"
   ]
  },
  {
   "cell_type": "code",
   "execution_count": 29,
   "metadata": {},
   "outputs": [
    {
     "name": "stdout",
     "output_type": "stream",
     "text": [
      "The Dubai is in uae\n"
     ]
    }
   ],
   "source": [
    "describe_city(\"Dubai\",\"uae\")"
   ]
  },
  {
   "cell_type": "markdown",
   "metadata": {},
   "source": [
    "## 8.6"
   ]
  },
  {
   "cell_type": "code",
   "execution_count": 33,
   "metadata": {},
   "outputs": [],
   "source": [
    "def city_country(city,country):\n",
    "        text = f\"{city} , {country}\"\n",
    "        return text"
   ]
  },
  {
   "cell_type": "code",
   "execution_count": 34,
   "metadata": {},
   "outputs": [
    {
     "name": "stdout",
     "output_type": "stream",
     "text": [
      "lahore , pakistan\n"
     ]
    }
   ],
   "source": [
    "print(city_country(\"lahore\",\"pakistan\"))"
   ]
  },
  {
   "cell_type": "code",
   "execution_count": 36,
   "metadata": {},
   "outputs": [
    {
     "name": "stdout",
     "output_type": "stream",
     "text": [
      "Narowal , Pakistan\n"
     ]
    }
   ],
   "source": [
    "print(city_country(\"Narowal\",\"Pakistan\"))"
   ]
  },
  {
   "cell_type": "code",
   "execution_count": 37,
   "metadata": {},
   "outputs": [
    {
     "name": "stdout",
     "output_type": "stream",
     "text": [
      "Karchi , Pakistan\n"
     ]
    }
   ],
   "source": [
    "print(city_country(\"Karchi\",\"Pakistan\"))"
   ]
  },
  {
   "cell_type": "markdown",
   "metadata": {},
   "source": [
    "## 8.7"
   ]
  },
  {
   "cell_type": "code",
   "execution_count": 2,
   "metadata": {},
   "outputs": [],
   "source": [
    "def make_album(artist,album,songs = None):\n",
    "    if songs != None:\n",
    "        d = {\"Artist Name\":artist,\n",
    "        \"Album\":album,\n",
    "         \"No.of Number\":songs\n",
    "         }\n",
    "    else:\n",
    "            d = {\"Artist Name\":artist,\n",
    "        \"Album\":album,\n",
    "         }\n",
    "    return d"
   ]
  },
  {
   "cell_type": "code",
   "execution_count": 52,
   "metadata": {},
   "outputs": [
    {
     "name": "stdout",
     "output_type": "stream",
     "text": [
      "{'Artist Name': 'Shakira', 'Album': 'waka waka'}\n"
     ]
    }
   ],
   "source": [
    "print(make_album(\"Shakira\",\"waka waka\"))"
   ]
  },
  {
   "cell_type": "code",
   "execution_count": 53,
   "metadata": {},
   "outputs": [
    {
     "name": "stdout",
     "output_type": "stream",
     "text": [
      "{'Artist Name': 'Fariha', 'Album': 'Chaldi a ravi'}\n"
     ]
    }
   ],
   "source": [
    "print(make_album(\"Fariha\",\"Chaldi a ravi\"))"
   ]
  },
  {
   "cell_type": "code",
   "execution_count": 54,
   "metadata": {},
   "outputs": [
    {
     "name": "stdout",
     "output_type": "stream",
     "text": [
      "{'Artist Name': 'Rahat', 'Album': 'Silslay'}\n"
     ]
    }
   ],
   "source": [
    "print(make_album(\"Rahat\",\"Silslay\"))"
   ]
  },
  {
   "cell_type": "code",
   "execution_count": 55,
   "metadata": {},
   "outputs": [
    {
     "name": "stdout",
     "output_type": "stream",
     "text": [
      "{'Artist Name': 'abida parveen', 'Album': ' gazals', 'No.of Number': 43}\n"
     ]
    }
   ],
   "source": [
    "print(make_album(\"abida parveen\",\" gazals\",43))"
   ]
  },
  {
   "cell_type": "markdown",
   "metadata": {},
   "source": [
    "# 8.8"
   ]
  },
  {
   "cell_type": "code",
   "execution_count": 6,
   "metadata": {},
   "outputs": [
    {
     "name": "stdout",
     "output_type": "stream",
     "text": [
      "Enter artist name   michal jackson\n",
      "Enter album title    walking on moon\n",
      "Enter No of Songs  10\n",
      "{'Artist Name': 'michal jackson', 'Album': 'walking on moon', 'No.of Number': '10'}\n",
      "Enter artist name   fgtyyyjgfygtrgt\n",
      "Enter album title    sas\n",
      "Enter No of Songs  12\n",
      "{'Artist Name': 'fgtyyyjgfygtrgt', 'Album': 'sas', 'No.of Number': '12'}\n",
      "Enter artist name   quit\n"
     ]
    }
   ],
   "source": [
    "a = True\n",
    "while a:\n",
    "    artist = input(\"Enter artist name   \")\n",
    "    if artist == \"quit\":\n",
    "        a= False\n",
    "        break\n",
    "    album = input(\"Enter album title    \")\n",
    "    songs =input(\"Enter No of Songs  \")\n",
    "    print(make_album(artist,album,songs))"
   ]
  },
  {
   "cell_type": "markdown",
   "metadata": {},
   "source": [
    "## 8.9"
   ]
  },
  {
   "cell_type": "code",
   "execution_count": 16,
   "metadata": {},
   "outputs": [],
   "source": [
    "messages =[\n",
    "    \"GOOD MORNING\",\n",
    "    \"GOOD AFTERNOON\",\n",
    "    \"GOOD EVENING\",\n",
    "    \"GOOD NIGHT\"\n",
    "]\n",
    "\n",
    "def show_messages():\n",
    "    for msg in messages:\n",
    "        print(f\"{msg} ! \")"
   ]
  },
  {
   "cell_type": "code",
   "execution_count": 17,
   "metadata": {},
   "outputs": [
    {
     "name": "stdout",
     "output_type": "stream",
     "text": [
      "GOOD MORNING ! \n",
      "GOOD AFTERNOON ! \n",
      "GOOD EVENING ! \n",
      "GOOD NIGHT ! \n"
     ]
    }
   ],
   "source": [
    "\n",
    "show_messages()"
   ]
  },
  {
   "cell_type": "markdown",
   "metadata": {},
   "source": [
    "##  8.10"
   ]
  },
  {
   "cell_type": "code",
   "execution_count": 27,
   "metadata": {},
   "outputs": [],
   "source": [
    "#using previous function and list  \n",
    "\n",
    "sent_messages =[]\n",
    "def send_messages():\n",
    "    sent_messages.clear()\n",
    "    for msg in messages:\n",
    "        print(f\"{msg} ! \")\n",
    "        sent_messages.append(msg)\n",
    "        "
   ]
  },
  {
   "cell_type": "code",
   "execution_count": 30,
   "metadata": {},
   "outputs": [
    {
     "name": "stdout",
     "output_type": "stream",
     "text": [
      "GOOD MORNING ! \n",
      "GOOD AFTERNOON ! \n",
      "GOOD EVENING ! \n",
      "GOOD NIGHT ! \n",
      "messeges:- \n",
      " ['GOOD MORNING', 'GOOD AFTERNOON', 'GOOD EVENING', 'GOOD NIGHT']\n",
      "sent_messages:- \n",
      " ['GOOD MORNING', 'GOOD AFTERNOON', 'GOOD EVENING', 'GOOD NIGHT']\n"
     ]
    }
   ],
   "source": [
    "send_messages()\n",
    "print(f\"messeges:- \\n {messages}\")\n",
    "print(f\"sent_messages:- \\n {sent_messages}\")"
   ]
  },
  {
   "cell_type": "markdown",
   "metadata": {},
   "source": [
    "## 8.11"
   ]
  },
  {
   "cell_type": "code",
   "execution_count": 31,
   "metadata": {},
   "outputs": [],
   "source": [
    "def send_messages():\n",
    "    messages.clear()\n",
    "    for msg in sent_messages:\n",
    "        print(f\"{msg} ! \")\n",
    "        messages.append(msg)"
   ]
  },
  {
   "cell_type": "code",
   "execution_count": 32,
   "metadata": {},
   "outputs": [
    {
     "name": "stdout",
     "output_type": "stream",
     "text": [
      "GOOD MORNING ! \n",
      "GOOD AFTERNOON ! \n",
      "GOOD EVENING ! \n",
      "GOOD NIGHT ! \n",
      "sent_messages:- \n",
      " ['GOOD MORNING', 'GOOD AFTERNOON', 'GOOD EVENING', 'GOOD NIGHT']\n",
      "messeges:- \n",
      " ['GOOD MORNING', 'GOOD AFTERNOON', 'GOOD EVENING', 'GOOD NIGHT']\n"
     ]
    }
   ],
   "source": [
    "send_messages()\n",
    "print(f\"sent_messages:- \\n {sent_messages}\")\n",
    "print(f\"messeges:- \\n {messages}\")"
   ]
  },
  {
   "cell_type": "code",
   "execution_count": null,
   "metadata": {},
   "outputs": [],
   "source": []
  }
 ],
 "metadata": {
  "kernelspec": {
   "display_name": "Python 3",
   "language": "python",
   "name": "python3"
  },
  "language_info": {
   "codemirror_mode": {
    "name": "ipython",
    "version": 3
   },
   "file_extension": ".py",
   "mimetype": "text/x-python",
   "name": "python",
   "nbconvert_exporter": "python",
   "pygments_lexer": "ipython3",
   "version": "3.7.6"
  }
 },
 "nbformat": 4,
 "nbformat_minor": 4
}
