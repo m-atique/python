{
 "cells": [
  {
   "cell_type": "markdown",
   "metadata": {},
   "source": [
    "# Modules"
   ]
  },
  {
   "cell_type": "markdown",
   "metadata": {},
   "source": [
    "#### accessing modules"
   ]
  },
  {
   "cell_type": "code",
   "execution_count": 9,
   "metadata": {},
   "outputs": [],
   "source": [
    "import vehicles"
   ]
  },
  {
   "cell_type": "markdown",
   "metadata": {},
   "source": [
    "#### creating new class using module"
   ]
  },
  {
   "cell_type": "code",
   "execution_count": 3,
   "metadata": {},
   "outputs": [],
   "source": [
    "car = vehicles.Vehicles(\"car\",\"1300cc\",\"white\",\"TOYOTA\",\"2020\")"
   ]
  },
  {
   "cell_type": "code",
   "execution_count": null,
   "metadata": {},
   "outputs": [],
   "source": []
  },
  {
   "cell_type": "code",
   "execution_count": 4,
   "metadata": {},
   "outputs": [
    {
     "name": "stdout",
     "output_type": "stream",
     "text": [
      "The color of vehicle is white\n"
     ]
    }
   ],
   "source": [
    "car.color_getter()"
   ]
  },
  {
   "cell_type": "code",
   "execution_count": 8,
   "metadata": {},
   "outputs": [
    {
     "data": {
      "text/plain": [
       "'2020'"
      ]
     },
     "execution_count": 8,
     "metadata": {},
     "output_type": "execute_result"
    }
   ],
   "source": [
    "car.modal"
   ]
  },
  {
   "cell_type": "markdown",
   "metadata": {},
   "source": [
    "### load full module"
   ]
  },
  {
   "cell_type": "code",
   "execution_count": null,
   "metadata": {},
   "outputs": [],
   "source": [
    "# %load vehicles.py\n",
    "class Vehicles():\n",
    "    def __init__(self,kind,engine,color,make,modal):\n",
    "        \n",
    "        self.kind = kind\n",
    "        self.engine =  engine\n",
    "        self.color = color\n",
    "        self.make = make\n",
    "        self.modal =modal\n",
    "    def run():\n",
    "        print(f\"The vehicle is running\")\n",
    "    def kind_getter(self):\n",
    "        print(f\"The type of vehicle is {self.kind}\")\n",
    "    def kind_setter(self):\n",
    "        self.kind = input(\"plasae enter new kind\")\n",
    "        print(f\"new type of vehicle is {self.kind}\")\n",
    "        \n",
    "    def color_getter(self):\n",
    "        print(f\"The color of vehicle is {self.color}\")\n",
    "    def color_setter(self):\n",
    "        self.color = input(\"plasae enter new color\")\n",
    "        print(f\"new color of vehicle is {self.color}\")\n",
    "        "
   ]
  }
 ],
 "metadata": {
  "kernelspec": {
   "display_name": "Python 3",
   "language": "python",
   "name": "python3"
  },
  "language_info": {
   "codemirror_mode": {
    "name": "ipython",
    "version": 3
   },
   "file_extension": ".py",
   "mimetype": "text/x-python",
   "name": "python",
   "nbconvert_exporter": "python",
   "pygments_lexer": "ipython3",
   "version": "3.7.6"
  }
 },
 "nbformat": 4,
 "nbformat_minor": 4
}
