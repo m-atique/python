{
 "cells": [
  {
   "cell_type": "code",
   "execution_count": 1,
   "metadata": {},
   "outputs": [],
   "source": [
    "class Officer():\n",
    "    def __init__(self, rank, name, fname, belt, secter, beat):\n",
    "        self.rank = rank\n",
    "        self.name = name\n",
    "        self.fname = fname\n",
    "        self.belt = belt\n",
    "        self.secter= secter\n",
    "        self.beat = beat\n",
    "    def get_posting(self):\n",
    "        print(f\"Current posting of {self.rank}   {self.name} {self.belt} is {self.secter} {self.beat}\")\n",
    "    def set_posting(self):\n",
    "        self.secter = input(\"Enter new posting seector   \")\n",
    "        self.beat = input(\"Enter new posting beat   \")\n",
    "        "
   ]
  },
  {
   "cell_type": "code",
   "execution_count": 2,
   "metadata": {},
   "outputs": [],
   "source": [
    "officer1 = Officer(\"PO\",\"FAIZAN\",\"AHMAD\",\"P-2234\",\"N-III\",\"BEAT-11\")"
   ]
  },
  {
   "cell_type": "code",
   "execution_count": 3,
   "metadata": {},
   "outputs": [
    {
     "data": {
      "text/plain": [
       "'BEAT-11'"
      ]
     },
     "execution_count": 3,
     "metadata": {},
     "output_type": "execute_result"
    }
   ],
   "source": [
    "officer1.beat"
   ]
  },
  {
   "cell_type": "code",
   "execution_count": 4,
   "metadata": {},
   "outputs": [
    {
     "data": {
      "text/plain": [
       "'N-III'"
      ]
     },
     "execution_count": 4,
     "metadata": {},
     "output_type": "execute_result"
    }
   ],
   "source": [
    "officer1.secter"
   ]
  },
  {
   "cell_type": "code",
   "execution_count": 5,
   "metadata": {},
   "outputs": [
    {
     "name": "stdout",
     "output_type": "stream",
     "text": [
      "Current posting of PO   FAIZAN P-2234 is N-III BEAT-11\n"
     ]
    }
   ],
   "source": [
    "officer1.get_posting()"
   ]
  },
  {
   "cell_type": "code",
   "execution_count": 6,
   "metadata": {},
   "outputs": [
    {
     "name": "stdout",
     "output_type": "stream",
     "text": [
      "Enter new posting seector   N-III\n",
      "Enter new posting beat   Beat-11\n"
     ]
    }
   ],
   "source": [
    "officer1.set_posting()"
   ]
  },
  {
   "cell_type": "code",
   "execution_count": 8,
   "metadata": {},
   "outputs": [
    {
     "name": "stdout",
     "output_type": "stream",
     "text": [
      "Current posting of PO   FAIZAN P-2234 is N-III Beat-11\n"
     ]
    }
   ],
   "source": [
    "officer1.get_posting()"
   ]
  },
  {
   "cell_type": "code",
   "execution_count": 9,
   "metadata": {},
   "outputs": [],
   "source": [
    "officer2 = Officer(\"SPO\",\"ZAFAR\",\"IQBAL\",\"S-345\",\"N-III\",\"BEAT-II\")"
   ]
  },
  {
   "cell_type": "code",
   "execution_count": 11,
   "metadata": {},
   "outputs": [
    {
     "data": {
      "text/plain": [
       "'BEAT-II'"
      ]
     },
     "execution_count": 11,
     "metadata": {},
     "output_type": "execute_result"
    }
   ],
   "source": [
    "officer2.beat"
   ]
  },
  {
   "cell_type": "code",
   "execution_count": 13,
   "metadata": {},
   "outputs": [
    {
     "name": "stdout",
     "output_type": "stream",
     "text": [
      "Current posting of SPO   ZAFAR S-345 is N-III BEAT-II\n"
     ]
    }
   ],
   "source": [
    "officer2.get_posting()"
   ]
  },
  {
   "cell_type": "code",
   "execution_count": 16,
   "metadata": {},
   "outputs": [
    {
     "name": "stdout",
     "output_type": "stream",
     "text": [
      "Enter new posting seector   N-III\n",
      "Enter new posting beat   BEAT-10\n"
     ]
    }
   ],
   "source": [
    "officer2.set_posting()"
   ]
  },
  {
   "cell_type": "code",
   "execution_count": 18,
   "metadata": {},
   "outputs": [
    {
     "name": "stdout",
     "output_type": "stream",
     "text": [
      "Current posting of SPO   ZAFAR S-345 is N-III BEAT-10\n"
     ]
    }
   ],
   "source": [
    "officer2.get_posting()"
   ]
  },
  {
   "cell_type": "code",
   "execution_count": 20,
   "metadata": {},
   "outputs": [],
   "source": [
    "class Beat(Officer):\n",
    "    def __init__(self,SPO,PO,APO,JPO):\n",
    "        self.SPO = SPO\n",
    "        self.PO = PO\n",
    "        self.APO = APO\n",
    "        self.JPO = JPO"
   ]
  },
  {
   "cell_type": "code",
   "execution_count": 24,
   "metadata": {},
   "outputs": [],
   "source": [
    "Beat11 = Beat(14,12,14,12)"
   ]
  },
  {
   "cell_type": "code",
   "execution_count": 74,
   "metadata": {},
   "outputs": [],
   "source": [
    "class Vehicles():\n",
    "    def __init__(self,kind,engine,color,make,modal):\n",
    "        \n",
    "        self.kind = kind\n",
    "        self.engine =  engine\n",
    "        self.color = color\n",
    "        self.make = make\n",
    "        self.modal =modal\n",
    "    def run():\n",
    "        print(f\"The vehicle is running\")\n",
    "    def kind_getter(self):\n",
    "        print(f\"The type of vehicle is {self.kind}\")\n",
    "    def kind_setter(self):\n",
    "        self.kind = input(\"plasae enter new kind\")\n",
    "        print(f\"new type of vehicle is {self.kind}\")\n",
    "        \n",
    "    def color_getter(self):\n",
    "        print(f\"The color of vehicle is {self.color}\")\n",
    "    def color_setter(self):\n",
    "        self.color = input(\"plasae enter new color\")\n",
    "        print(f\"new color of vehicle is {self.color}\")\n",
    "        "
   ]
  },
  {
   "cell_type": "code",
   "execution_count": 75,
   "metadata": {},
   "outputs": [],
   "source": [
    "car = Vehicles(\"car\",\"1300cc\",\"white\",\"toyota\",\"2020\")"
   ]
  },
  {
   "cell_type": "code",
   "execution_count": 76,
   "metadata": {},
   "outputs": [],
   "source": [
    "class ships(Vehicles):\n",
    "    def __init__(self,kind,engine,color,make,modal):\n",
    "        super().__init__(kind,engine,color,make,modal)\n",
    "        self.size = 0\n",
    "    def size_getter(self):\n",
    "        print(f\"The color of vehicle is {self.color}\")\n",
    "    def size_setter(self):\n",
    "        self.size = input(\"plasae enter new size\")\n",
    "        print(f\"new color of vehicle is {self.size}\")\n",
    "            "
   ]
  },
  {
   "cell_type": "code",
   "execution_count": 77,
   "metadata": {},
   "outputs": [
    {
     "name": "stdout",
     "output_type": "stream",
     "text": [
      "The vehicle is running\n"
     ]
    }
   ],
   "source": [
    "ships.run()"
   ]
  },
  {
   "cell_type": "code",
   "execution_count": 78,
   "metadata": {},
   "outputs": [],
   "source": [
    "titanic = ships(\"long\",\"50000cc\",\"white\",\"brtain\",\"1900\" )"
   ]
  },
  {
   "cell_type": "code",
   "execution_count": 79,
   "metadata": {},
   "outputs": [
    {
     "data": {
      "text/plain": [
       "0"
      ]
     },
     "execution_count": 79,
     "metadata": {},
     "output_type": "execute_result"
    }
   ],
   "source": [
    "titanic.size"
   ]
  },
  {
   "cell_type": "code",
   "execution_count": 80,
   "metadata": {},
   "outputs": [
    {
     "name": "stdout",
     "output_type": "stream",
     "text": [
      "The color of vehicle is white\n"
     ]
    }
   ],
   "source": [
    "titanic.size_getter()"
   ]
  },
  {
   "cell_type": "markdown",
   "metadata": {},
   "source": [
    "# questions\n"
   ]
  },
  {
   "cell_type": "raw",
   "metadata": {},
   "source": [
    "# sir how  to mention argument of a child(drived) class for an object of child class.\n",
    "class ships(Vehicles):\n",
    "    def __init__(self,kind,engine,color,make,modal):\n",
    "        super().__init__(kind,engine,color,make,modal)\n",
    "        self.size = 0\n",
    "#                 kind, engine,   color , make,    modal       \n",
    "titanic = ships(\"long\",\"50000cc\",\"white\",\"brtain\",\"1900\" ) #  how to mention size here\n"
   ]
  },
  {
   "cell_type": "code",
   "execution_count": 92,
   "metadata": {},
   "outputs": [],
   "source": [
    "class battery():\n",
    "    def __init__(self, size,plates,power):\n",
    "        self.size = size\n",
    "        self.plates = plates \n",
    "        self.power = power\n",
    "    def describe_battery(self):\n",
    "        \"\"\"size = {self.size}\n",
    "        plates = {self.plates}\n",
    "        power = {self.plates}\"\"\".format\n",
    "        print(f\"{self.size} {self.plates} {self.power}\")\n",
    "        "
   ]
  },
  {
   "cell_type": "code",
   "execution_count": 93,
   "metadata": {},
   "outputs": [],
   "source": [
    "battery1 = battery(\"12amp\",\"27\",\"200w\")"
   ]
  },
  {
   "cell_type": "code",
   "execution_count": 94,
   "metadata": {},
   "outputs": [
    {
     "name": "stdout",
     "output_type": "stream",
     "text": [
      "12amp 27 200w\n"
     ]
    }
   ],
   "source": [
    "battery1.describe_battery()"
   ]
  },
  {
   "cell_type": "code",
   "execution_count": 96,
   "metadata": {},
   "outputs": [
    {
     "name": "stdout",
     "output_type": "stream",
     "text": [
      "The color of vehicle is white\n"
     ]
    }
   ],
   "source": [
    "car.color_getter()"
   ]
  },
  {
   "cell_type": "code",
   "execution_count": null,
   "metadata": {},
   "outputs": [],
   "source": []
  }
 ],
 "metadata": {
  "kernelspec": {
   "display_name": "Python 3",
   "language": "python",
   "name": "python3"
  },
  "language_info": {
   "codemirror_mode": {
    "name": "ipython",
    "version": 3
   },
   "file_extension": ".py",
   "mimetype": "text/x-python",
   "name": "python",
   "nbconvert_exporter": "python",
   "pygments_lexer": "ipython3",
   "version": "3.7.6"
  }
 },
 "nbformat": 4,
 "nbformat_minor": 4
}
