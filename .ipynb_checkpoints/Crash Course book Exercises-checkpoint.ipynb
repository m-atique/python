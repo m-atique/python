{
 "cells": [
  {
   "cell_type": "markdown",
   "metadata": {},
   "source": [
    "# Functions"
   ]
  },
  {
   "cell_type": "markdown",
   "metadata": {},
   "source": [
    "## 8.1"
   ]
  },
  {
   "cell_type": "code",
   "execution_count": 2,
   "metadata": {},
   "outputs": [],
   "source": [
    "def display_message():\n",
    "    print(\" I am Learning python functions\")"
   ]
  },
  {
   "cell_type": "code",
   "execution_count": 3,
   "metadata": {},
   "outputs": [
    {
     "name": "stdout",
     "output_type": "stream",
     "text": [
      " I am Learning python functions\n"
     ]
    }
   ],
   "source": [
    "display_message()"
   ]
  },
  {
   "cell_type": "markdown",
   "metadata": {},
   "source": [
    "## 8.2"
   ]
  },
  {
   "cell_type": "code",
   "execution_count": 5,
   "metadata": {},
   "outputs": [],
   "source": [
    "def favorite_book(title):\n",
    "    print(f\"My favorite book is {title}\")"
   ]
  },
  {
   "cell_type": "code",
   "execution_count": 6,
   "metadata": {},
   "outputs": [
    {
     "name": "stdout",
     "output_type": "stream",
     "text": [
      "My favorite book is Quran\n"
     ]
    }
   ],
   "source": [
    "favorite_book(\"Quran\")"
   ]
  },
  {
   "cell_type": "markdown",
   "metadata": {},
   "source": [
    "## 8.3"
   ]
  },
  {
   "cell_type": "code",
   "execution_count": 13,
   "metadata": {},
   "outputs": [],
   "source": [
    "def make_shirt(size, msg):\n",
    "    print(f\"Size = {size} \\n {msg}\")"
   ]
  },
  {
   "cell_type": "code",
   "execution_count": 15,
   "metadata": {},
   "outputs": [
    {
     "name": "stdout",
     "output_type": "stream",
     "text": [
      "Size = xl \n",
      " beutiful\n"
     ]
    }
   ],
   "source": [
    "make_shirt(\"xl\",\"beutiful\") "
   ]
  },
  {
   "cell_type": "code",
   "execution_count": 16,
   "metadata": {},
   "outputs": [
    {
     "name": "stdout",
     "output_type": "stream",
     "text": [
      "Size = M \n",
      " Cooool\n"
     ]
    }
   ],
   "source": [
    "make_shirt(msg =\"Cooool\", size = \"M\")"
   ]
  },
  {
   "cell_type": "markdown",
   "metadata": {},
   "source": [
    "## 8.4"
   ]
  },
  {
   "cell_type": "code",
   "execution_count": 17,
   "metadata": {},
   "outputs": [],
   "source": [
    "def make_shirt(size =\"L\", msg= \"I love Python\"):\n",
    "    print(f\"Size = {size} \\n {msg}\")"
   ]
  },
  {
   "cell_type": "code",
   "execution_count": 18,
   "metadata": {},
   "outputs": [
    {
     "name": "stdout",
     "output_type": "stream",
     "text": [
      "Size = L \n",
      " I love Python\n"
     ]
    }
   ],
   "source": [
    "make_shirt()"
   ]
  },
  {
   "cell_type": "code",
   "execution_count": 19,
   "metadata": {},
   "outputs": [
    {
     "name": "stdout",
     "output_type": "stream",
     "text": [
      "Size = M \n",
      " I love Python\n"
     ]
    }
   ],
   "source": [
    "make_shirt(\"M\")"
   ]
  },
  {
   "cell_type": "code",
   "execution_count": 20,
   "metadata": {},
   "outputs": [
    {
     "name": "stdout",
     "output_type": "stream",
     "text": [
      "Size = S \n",
      " I love to code\n"
     ]
    }
   ],
   "source": [
    "make_shirt(\"S\",\"I love to code\")"
   ]
  },
  {
   "cell_type": "markdown",
   "metadata": {},
   "source": [
    "## 8.5"
   ]
  },
  {
   "cell_type": "code",
   "execution_count": 25,
   "metadata": {},
   "outputs": [],
   "source": [
    "def describe_city(city = \"Karachi\",country = \"pakistan\"):\n",
    "    print(f\"The {city} is in {country}\")"
   ]
  },
  {
   "cell_type": "code",
   "execution_count": 26,
   "metadata": {},
   "outputs": [
    {
     "name": "stdout",
     "output_type": "stream",
     "text": [
      "The Karachi is in pakistan\n"
     ]
    }
   ],
   "source": [
    "describe_city()"
   ]
  },
  {
   "cell_type": "code",
   "execution_count": 27,
   "metadata": {},
   "outputs": [
    {
     "name": "stdout",
     "output_type": "stream",
     "text": [
      "The lahore is in pakistan\n"
     ]
    }
   ],
   "source": [
    "describe_city(\"lahore\")"
   ]
  },
  {
   "cell_type": "code",
   "execution_count": 28,
   "metadata": {},
   "outputs": [
    {
     "name": "stdout",
     "output_type": "stream",
     "text": [
      "The islamabad is in pakistan\n"
     ]
    }
   ],
   "source": [
    "describe_city(\"islamabad\")"
   ]
  },
  {
   "cell_type": "code",
   "execution_count": 29,
   "metadata": {},
   "outputs": [
    {
     "name": "stdout",
     "output_type": "stream",
     "text": [
      "The Dubai is in uae\n"
     ]
    }
   ],
   "source": [
    "describe_city(\"Dubai\",\"uae\")"
   ]
  },
  {
   "cell_type": "markdown",
   "metadata": {},
   "source": [
    "## 8.6"
   ]
  },
  {
   "cell_type": "code",
   "execution_count": 33,
   "metadata": {},
   "outputs": [],
   "source": [
    "def city_country(city,country):\n",
    "        text = f\"{city} , {country}\"\n",
    "        return text"
   ]
  },
  {
   "cell_type": "code",
   "execution_count": 34,
   "metadata": {},
   "outputs": [
    {
     "name": "stdout",
     "output_type": "stream",
     "text": [
      "lahore , pakistan\n"
     ]
    }
   ],
   "source": [
    "print(city_country(\"lahore\",\"pakistan\"))"
   ]
  },
  {
   "cell_type": "code",
   "execution_count": 36,
   "metadata": {},
   "outputs": [
    {
     "name": "stdout",
     "output_type": "stream",
     "text": [
      "Narowal , Pakistan\n"
     ]
    }
   ],
   "source": [
    "print(city_country(\"Narowal\",\"Pakistan\"))"
   ]
  },
  {
   "cell_type": "code",
   "execution_count": 37,
   "metadata": {},
   "outputs": [
    {
     "name": "stdout",
     "output_type": "stream",
     "text": [
      "Karchi , Pakistan\n"
     ]
    }
   ],
   "source": [
    "print(city_country(\"Karchi\",\"Pakistan\"))"
   ]
  },
  {
   "cell_type": "markdown",
   "metadata": {},
   "source": [
    "## 8.7"
   ]
  },
  {
   "cell_type": "code",
   "execution_count": 2,
   "metadata": {},
   "outputs": [],
   "source": [
    "def make_album(artist,album,songs = None):\n",
    "    if songs != None:\n",
    "        d = {\"Artist Name\":artist,\n",
    "        \"Album\":album,\n",
    "         \"No.of Number\":songs\n",
    "         }\n",
    "    else:\n",
    "            d = {\"Artist Name\":artist,\n",
    "        \"Album\":album,\n",
    "         }\n",
    "    return d"
   ]
  },
  {
   "cell_type": "code",
   "execution_count": 52,
   "metadata": {},
   "outputs": [
    {
     "name": "stdout",
     "output_type": "stream",
     "text": [
      "{'Artist Name': 'Shakira', 'Album': 'waka waka'}\n"
     ]
    }
   ],
   "source": [
    "print(make_album(\"Shakira\",\"waka waka\"))"
   ]
  },
  {
   "cell_type": "code",
   "execution_count": 53,
   "metadata": {},
   "outputs": [
    {
     "name": "stdout",
     "output_type": "stream",
     "text": [
      "{'Artist Name': 'Fariha', 'Album': 'Chaldi a ravi'}\n"
     ]
    }
   ],
   "source": [
    "print(make_album(\"Fariha\",\"Chaldi a ravi\"))"
   ]
  },
  {
   "cell_type": "code",
   "execution_count": 54,
   "metadata": {},
   "outputs": [
    {
     "name": "stdout",
     "output_type": "stream",
     "text": [
      "{'Artist Name': 'Rahat', 'Album': 'Silslay'}\n"
     ]
    }
   ],
   "source": [
    "print(make_album(\"Rahat\",\"Silslay\"))"
   ]
  },
  {
   "cell_type": "code",
   "execution_count": 55,
   "metadata": {},
   "outputs": [
    {
     "name": "stdout",
     "output_type": "stream",
     "text": [
      "{'Artist Name': 'abida parveen', 'Album': ' gazals', 'No.of Number': 43}\n"
     ]
    }
   ],
   "source": [
    "print(make_album(\"abida parveen\",\" gazals\",43))"
   ]
  },
  {
   "cell_type": "markdown",
   "metadata": {},
   "source": [
    "# 8.8"
   ]
  },
  {
   "cell_type": "code",
   "execution_count": 6,
   "metadata": {},
   "outputs": [
    {
     "name": "stdout",
     "output_type": "stream",
     "text": [
      "Enter artist name   michal jackson\n",
      "Enter album title    walking on moon\n",
      "Enter No of Songs  10\n",
      "{'Artist Name': 'michal jackson', 'Album': 'walking on moon', 'No.of Number': '10'}\n",
      "Enter artist name   fgtyyyjgfygtrgt\n",
      "Enter album title    sas\n",
      "Enter No of Songs  12\n",
      "{'Artist Name': 'fgtyyyjgfygtrgt', 'Album': 'sas', 'No.of Number': '12'}\n",
      "Enter artist name   quit\n"
     ]
    }
   ],
   "source": [
    "a = True\n",
    "while a:\n",
    "    artist = input(\"Enter artist name   \")\n",
    "    if artist == \"quit\":\n",
    "        a= False\n",
    "        break\n",
    "    album = input(\"Enter album title    \")\n",
    "    songs =input(\"Enter No of Songs  \")\n",
    "    print(make_album(artist,album,songs))"
   ]
  },
  {
   "cell_type": "markdown",
   "metadata": {},
   "source": [
    "## 8.9"
   ]
  },
  {
   "cell_type": "code",
   "execution_count": 16,
   "metadata": {},
   "outputs": [],
   "source": [
    "messages =[\n",
    "    \"GOOD MORNING\",\n",
    "    \"GOOD AFTERNOON\",\n",
    "    \"GOOD EVENING\",\n",
    "    \"GOOD NIGHT\"\n",
    "]\n",
    "\n",
    "def show_messages():\n",
    "    for msg in messages:\n",
    "        print(f\"{msg} ! \")"
   ]
  },
  {
   "cell_type": "code",
   "execution_count": 17,
   "metadata": {},
   "outputs": [
    {
     "name": "stdout",
     "output_type": "stream",
     "text": [
      "GOOD MORNING ! \n",
      "GOOD AFTERNOON ! \n",
      "GOOD EVENING ! \n",
      "GOOD NIGHT ! \n"
     ]
    }
   ],
   "source": [
    "\n",
    "show_messages()"
   ]
  },
  {
   "cell_type": "markdown",
   "metadata": {},
   "source": [
    "##  8.10"
   ]
  },
  {
   "cell_type": "code",
   "execution_count": 27,
   "metadata": {},
   "outputs": [],
   "source": [
    "#using previous function and list  \n",
    "\n",
    "sent_messages =[]\n",
    "def send_messages():\n",
    "    sent_messages.clear()\n",
    "    for msg in messages:\n",
    "        print(f\"{msg} ! \")\n",
    "        sent_messages.append(msg)\n",
    "        "
   ]
  },
  {
   "cell_type": "code",
   "execution_count": 30,
   "metadata": {},
   "outputs": [
    {
     "name": "stdout",
     "output_type": "stream",
     "text": [
      "GOOD MORNING ! \n",
      "GOOD AFTERNOON ! \n",
      "GOOD EVENING ! \n",
      "GOOD NIGHT ! \n",
      "messeges:- \n",
      " ['GOOD MORNING', 'GOOD AFTERNOON', 'GOOD EVENING', 'GOOD NIGHT']\n",
      "sent_messages:- \n",
      " ['GOOD MORNING', 'GOOD AFTERNOON', 'GOOD EVENING', 'GOOD NIGHT']\n"
     ]
    }
   ],
   "source": [
    "send_messages()\n",
    "print(f\"messeges:- \\n {messages}\")\n",
    "print(f\"sent_messages:- \\n {sent_messages}\")"
   ]
  },
  {
   "cell_type": "markdown",
   "metadata": {},
   "source": [
    "## 8.11"
   ]
  },
  {
   "cell_type": "code",
   "execution_count": 31,
   "metadata": {},
   "outputs": [],
   "source": [
    "def send_messages():\n",
    "    messages.clear()\n",
    "    for msg in sent_messages:\n",
    "        print(f\"{msg} ! \")\n",
    "        messages.append(msg)"
   ]
  },
  {
   "cell_type": "code",
   "execution_count": 32,
   "metadata": {},
   "outputs": [
    {
     "name": "stdout",
     "output_type": "stream",
     "text": [
      "GOOD MORNING ! \n",
      "GOOD AFTERNOON ! \n",
      "GOOD EVENING ! \n",
      "GOOD NIGHT ! \n",
      "sent_messages:- \n",
      " ['GOOD MORNING', 'GOOD AFTERNOON', 'GOOD EVENING', 'GOOD NIGHT']\n",
      "messeges:- \n",
      " ['GOOD MORNING', 'GOOD AFTERNOON', 'GOOD EVENING', 'GOOD NIGHT']\n"
     ]
    }
   ],
   "source": [
    "send_messages()\n",
    "print(f\"sent_messages:- \\n {sent_messages}\")\n",
    "print(f\"messeges:- \\n {messages}\")"
   ]
  },
  {
   "cell_type": "markdown",
   "metadata": {},
   "source": [
    "## 8.12"
   ]
  },
  {
   "cell_type": "code",
   "execution_count": 48,
   "metadata": {},
   "outputs": [],
   "source": [
    "def sandwich_order(*ingridient):\n",
    "    print(\"YOUR ORDER OF SANDWICH IS READY WITH:-\")\n",
    "    for i in ingridient:\n",
    "        print(f\" >>>>{i}\")\n",
    "    "
   ]
  },
  {
   "cell_type": "code",
   "execution_count": 49,
   "metadata": {},
   "outputs": [
    {
     "name": "stdout",
     "output_type": "stream",
     "text": [
      "YOUR ORDER OF SANDWICH IS READY WITH:-\n",
      " >>>>cheese\n",
      " >>>>fried chicken\n"
     ]
    }
   ],
   "source": [
    "sandwich_order(\"cheese\",\"fried chicken\")"
   ]
  },
  {
   "cell_type": "markdown",
   "metadata": {},
   "source": [
    "## 8.13"
   ]
  },
  {
   "cell_type": "code",
   "execution_count": 68,
   "metadata": {},
   "outputs": [],
   "source": [
    "def user_profile(first,last,**user_info):\n",
    "    print(\"---:PROFILE:---\")\n",
    "    user_info['first_name'] = first\n",
    "    user_info['last_name'] = last\n",
    "    return user_info\n",
    "    "
   ]
  },
  {
   "cell_type": "code",
   "execution_count": 69,
   "metadata": {},
   "outputs": [
    {
     "name": "stdout",
     "output_type": "stream",
     "text": [
      "---:PROFILE:---\n",
      "{'location': 'Narowal', 'first_name': 'Muhammad', 'last_name': 'Atique'}\n"
     ]
    }
   ],
   "source": [
    "my_profile=user_profile(\"Muhammad\",\"Atique\",\n",
    "                   location = \"Narowal\")\n",
    "print(my_profile)"
   ]
  },
  {
   "cell_type": "code",
   "execution_count": null,
   "metadata": {},
   "outputs": [],
   "source": []
  },
  {
   "cell_type": "markdown",
   "metadata": {},
   "source": [
    "# CHAPTER # 09 CLASSES"
   ]
  },
  {
   "cell_type": "markdown",
   "metadata": {},
   "source": [
    "## 9.1"
   ]
  },
  {
   "cell_type": "code",
   "execution_count": 69,
   "metadata": {},
   "outputs": [],
   "source": [
    "class Resturent():\n",
    "    def __init__(self,resturent_name,cousine_type):\n",
    "        self.resturent_name =resturent_name\n",
    "        self.cousine_type =cousine_type\n",
    "    def describe_restaurant(self):\n",
    "        print(f\"The {self.resturent_name} have a {self.cousine_type}\")\n",
    "    def open_resturent(self):\n",
    "        print(f\"{self.resturent_name}  is open\")\n",
    "        "
   ]
  },
  {
   "cell_type": "code",
   "execution_count": 70,
   "metadata": {},
   "outputs": [],
   "source": [
    "royal_garden = Resturent(\"Royal Garden\", \"NX Cousine\")"
   ]
  },
  {
   "cell_type": "code",
   "execution_count": 71,
   "metadata": {},
   "outputs": [
    {
     "name": "stdout",
     "output_type": "stream",
     "text": [
      "The Royal Garden have a NX Cousine\n"
     ]
    }
   ],
   "source": [
    "royal_garden.describe_restaurant()"
   ]
  },
  {
   "cell_type": "code",
   "execution_count": 72,
   "metadata": {},
   "outputs": [
    {
     "name": "stdout",
     "output_type": "stream",
     "text": [
      "Royal Garden  is open\n"
     ]
    }
   ],
   "source": [
    "royal_garden.open_resturent()"
   ]
  },
  {
   "cell_type": "code",
   "execution_count": 73,
   "metadata": {},
   "outputs": [
    {
     "data": {
      "text/plain": [
       "'Royal Garden'"
      ]
     },
     "execution_count": 73,
     "metadata": {},
     "output_type": "execute_result"
    }
   ],
   "source": [
    "royal_garden.resturent_name"
   ]
  },
  {
   "cell_type": "code",
   "execution_count": 74,
   "metadata": {},
   "outputs": [
    {
     "data": {
      "text/plain": [
       "'NX Cousine'"
      ]
     },
     "execution_count": 74,
     "metadata": {},
     "output_type": "execute_result"
    }
   ],
   "source": [
    "royal_garden.cousine_type"
   ]
  },
  {
   "cell_type": "markdown",
   "metadata": {},
   "source": [
    "## 9.2"
   ]
  },
  {
   "cell_type": "code",
   "execution_count": 80,
   "metadata": {},
   "outputs": [],
   "source": [
    "pc = Resturent(\"PEARAL CONTINENTAL\", \"FULL STACK\")"
   ]
  },
  {
   "cell_type": "code",
   "execution_count": 81,
   "metadata": {},
   "outputs": [],
   "source": [
    "h_inn = Resturent(\"Holidays Inn\",\"NO Cousine\")"
   ]
  },
  {
   "cell_type": "code",
   "execution_count": 82,
   "metadata": {},
   "outputs": [],
   "source": [
    "avari = Resturent(\"AVARI KARACHI\", \"Beach\")"
   ]
  },
  {
   "cell_type": "code",
   "execution_count": 83,
   "metadata": {},
   "outputs": [
    {
     "name": "stdout",
     "output_type": "stream",
     "text": [
      "The PEARAL CONTINENTAL have a FULL STACK\n"
     ]
    }
   ],
   "source": [
    "pc.describe_restaurant()"
   ]
  },
  {
   "cell_type": "code",
   "execution_count": 84,
   "metadata": {},
   "outputs": [
    {
     "name": "stdout",
     "output_type": "stream",
     "text": [
      "The Holidays Inn have a NO Cousine\n"
     ]
    }
   ],
   "source": [
    "h_inn.describe_restaurant()"
   ]
  },
  {
   "cell_type": "code",
   "execution_count": 85,
   "metadata": {},
   "outputs": [
    {
     "name": "stdout",
     "output_type": "stream",
     "text": [
      "The AVARI KARACHI have a Beach\n"
     ]
    }
   ],
   "source": [
    "avari.describe_restaurant()"
   ]
  },
  {
   "cell_type": "markdown",
   "metadata": {},
   "source": [
    "## 9.3"
   ]
  },
  {
   "cell_type": "code",
   "execution_count": 119,
   "metadata": {},
   "outputs": [],
   "source": [
    "class User():\n",
    "    def __init__(self, name, lastname, dob, email):\n",
    "        self.name = name\n",
    "        self.lastname =lastname\n",
    "        self.dob =dob\n",
    "        self.email =email\n",
    "    def describe_user(self):\n",
    "        print(\".....USER PROFILE....\")\n",
    "        print(f\" {self.name}  {self.lastname} \\n {self.dob} \\n{self.email}\")\n",
    "    def greet_user(self):\n",
    "        print(f\"Welcomme! {self.name} {self.lastname}\")"
   ]
  },
  {
   "cell_type": "code",
   "execution_count": 120,
   "metadata": {},
   "outputs": [],
   "source": [
    "user1 =User(\"Naeem\",\"Tariq\",\"1963\",\"lali@gmail.com\")"
   ]
  },
  {
   "cell_type": "code",
   "execution_count": 121,
   "metadata": {},
   "outputs": [],
   "source": [
    "user2 =User(\"Abdul\",\"Majed\",\"1953\",\"ab@gmail.com\")"
   ]
  },
  {
   "cell_type": "code",
   "execution_count": 122,
   "metadata": {},
   "outputs": [
    {
     "name": "stdout",
     "output_type": "stream",
     "text": [
      ".....USER PROFILE....\n",
      " Naeem  Tariq \n",
      " 1963 \n",
      "lali@gmail.com\n"
     ]
    }
   ],
   "source": [
    "user1.describe_user()"
   ]
  },
  {
   "cell_type": "code",
   "execution_count": 123,
   "metadata": {},
   "outputs": [
    {
     "name": "stdout",
     "output_type": "stream",
     "text": [
      "Welcomme! Abdul Majed\n"
     ]
    }
   ],
   "source": [
    "user2.greet_user()"
   ]
  },
  {
   "cell_type": "markdown",
   "metadata": {},
   "source": [
    "## 9.4"
   ]
  },
  {
   "cell_type": "code",
   "execution_count": 77,
   "metadata": {},
   "outputs": [],
   "source": [
    "class Resturent():\n",
    "    def __init__(self,resturent_name,cousine_type,customer_served = 0):\n",
    "        self.resturent_name =resturent_name\n",
    "        self.cousine_type =cousine_type\n",
    "        self.customer_served = customer_served\n",
    "    def describe_restaurant(self):\n",
    "        print(f\"The {self.resturent_name} have a {self.cousine_type}\")\n",
    "    def open_resturent(self):\n",
    "        print(f\"{self.resturent_name}  is open\")\n",
    "    def set_number_served(self):\n",
    "        customer = int(input(\"Customers Served  \"))\n",
    "        self.customer_served = customer\n",
    "    def increment_number_served(self):\n",
    "        customer_Serv = int(input(\"Customers Served  \"))\n",
    "        self.customer_served +=customer_Serv\n",
    "        "
   ]
  },
  {
   "cell_type": "code",
   "execution_count": 78,
   "metadata": {},
   "outputs": [],
   "source": [
    "marian = Resturent(\"MARIAN\", \"DINNER\",23)"
   ]
  },
  {
   "cell_type": "code",
   "execution_count": 79,
   "metadata": {},
   "outputs": [
    {
     "data": {
      "text/plain": [
       "23"
      ]
     },
     "execution_count": 79,
     "metadata": {},
     "output_type": "execute_result"
    }
   ],
   "source": [
    "marian.customer_served"
   ]
  },
  {
   "cell_type": "code",
   "execution_count": 56,
   "metadata": {},
   "outputs": [
    {
     "name": "stdout",
     "output_type": "stream",
     "text": [
      "Customers Served  45\n"
     ]
    }
   ],
   "source": [
    "marian.increment_number_served()"
   ]
  },
  {
   "cell_type": "code",
   "execution_count": 57,
   "metadata": {},
   "outputs": [
    {
     "data": {
      "text/plain": [
       "68"
      ]
     },
     "execution_count": 57,
     "metadata": {},
     "output_type": "execute_result"
    }
   ],
   "source": [
    "marian.customer_served"
   ]
  },
  {
   "cell_type": "code",
   "execution_count": 58,
   "metadata": {},
   "outputs": [
    {
     "name": "stdout",
     "output_type": "stream",
     "text": [
      "Customers Served  78\n"
     ]
    }
   ],
   "source": [
    "marian.set_number_served()"
   ]
  },
  {
   "cell_type": "code",
   "execution_count": 59,
   "metadata": {},
   "outputs": [
    {
     "data": {
      "text/plain": [
       "78"
      ]
     },
     "execution_count": 59,
     "metadata": {},
     "output_type": "execute_result"
    }
   ],
   "source": [
    "marian.customer_served"
   ]
  },
  {
   "cell_type": "markdown",
   "metadata": {},
   "source": [
    "## 9.5"
   ]
  },
  {
   "cell_type": "code",
   "execution_count": 16,
   "metadata": {},
   "outputs": [],
   "source": [
    "class User():\n",
    "    def __init__(self, name, lastname, dob, email,login_atm = 0):\n",
    "        self.name = name\n",
    "        self.lastname =lastname\n",
    "        self.dob =dob\n",
    "        self.email =email\n",
    "        self.login_atm =login_atm\n",
    "    def describe_user(self):\n",
    "        print(\".....USER PROFILE....\")\n",
    "        print(f\" {self.name}  {self.lastname} \\n {self.dob} \\n{self.email}\")\n",
    "    def greet_user(self):\n",
    "        print(f\"Welcomme! {self.name} {self.lastname}\")\n",
    "    def increment_login_attempt(self):\n",
    "        self.login_atm += 1\n",
    "    def reset_login_attempts(self):\n",
    "        self.login_atm  = 0"
   ]
  },
  {
   "cell_type": "code",
   "execution_count": 20,
   "metadata": {},
   "outputs": [],
   "source": [
    "cashier = User(\"MUHAMMAD \",\"ALI\",\"23-1-1998\",\"ALI@GMAIL.COM\",)"
   ]
  },
  {
   "cell_type": "code",
   "execution_count": 21,
   "metadata": {},
   "outputs": [],
   "source": [
    "cashier.increment_login_attempt()"
   ]
  },
  {
   "cell_type": "code",
   "execution_count": 22,
   "metadata": {},
   "outputs": [
    {
     "name": "stdout",
     "output_type": "stream",
     "text": [
      "1\n"
     ]
    }
   ],
   "source": [
    "print(cashier.login_atm)"
   ]
  },
  {
   "cell_type": "code",
   "execution_count": 23,
   "metadata": {},
   "outputs": [
    {
     "name": "stdout",
     "output_type": "stream",
     "text": [
      "0\n"
     ]
    }
   ],
   "source": [
    "cashier.reset_login_attempts()\n",
    "print(cashier.login_atm)"
   ]
  },
  {
   "cell_type": "code",
   "execution_count": 24,
   "metadata": {},
   "outputs": [
    {
     "name": "stdout",
     "output_type": "stream",
     "text": [
      "6\n"
     ]
    }
   ],
   "source": [
    "cashier.increment_login_attempt()\n",
    "cashier.increment_login_attempt()\n",
    "cashier.increment_login_attempt()\n",
    "cashier.increment_login_attempt()\n",
    "cashier.increment_login_attempt()\n",
    "cashier.increment_login_attempt()\n",
    "print(cashier.login_atm)"
   ]
  },
  {
   "cell_type": "code",
   "execution_count": null,
   "metadata": {},
   "outputs": [],
   "source": []
  },
  {
   "cell_type": "markdown",
   "metadata": {},
   "source": [
    "## 9.6"
   ]
  },
  {
   "cell_type": "code",
   "execution_count": 121,
   "metadata": {},
   "outputs": [],
   "source": [
    "class IcecreamStand(Resturent):\n",
    "    def __init__(self,resturent_name,cousine_type,customer_served, *flavors):\n",
    "        super().__init__(resturent_name,cousine_type,customer_served)\n",
    "        flavors =[\"popcorn\", \"feast\", \"choclate\",\"tutty fruity\"]\n",
    "        self.flavors = flavors\n",
    "    def flavor_list(self):\n",
    "        print(\"===============\\n....Flavors....\\n================\\n\")\n",
    "        for flavore in flavors:\n",
    "            print(f\"{flavors.index(flavore)+1} --{flavore}\")\n",
    "            "
   ]
  },
  {
   "cell_type": "code",
   "execution_count": 122,
   "metadata": {},
   "outputs": [],
   "source": [
    "chamanice= IcecreamStand(\"Chaman Ice Cream\",\"Self service\",0)"
   ]
  },
  {
   "cell_type": "code",
   "execution_count": 124,
   "metadata": {},
   "outputs": [
    {
     "name": "stdout",
     "output_type": "stream",
     "text": [
      "===============\n",
      "....Flavors....\n",
      "================\n",
      "\n",
      "1 --popcorn\n",
      "2 --feast\n",
      "3 --choclate\n",
      "4 --tutty fruity\n"
     ]
    },
    {
     "data": {
      "text/plain": [
       "['popcorn', 'feast', 'choclate', 'tutty fruity']"
      ]
     },
     "execution_count": 124,
     "metadata": {},
     "output_type": "execute_result"
    }
   ],
   "source": [
    "chamanice.flavor_list()\n",
    "chamanice.flavors"
   ]
  },
  {
   "cell_type": "markdown",
   "metadata": {},
   "source": [
    "## 9.7"
   ]
  },
  {
   "cell_type": "code",
   "execution_count": 157,
   "metadata": {},
   "outputs": [],
   "source": [
    "class Admin(User):\n",
    "    def __init__(self,name, lastname, dob, email,login_atm=0,previlages =None):\n",
    "        super().__init__(name, lastname, dob, email,login_atm)\n",
    "        previlages =[ \"can add post\", \"can delete post\", \"can ban user\"]\n",
    "        self.previlages =previlages\n",
    "    def show_previlages(self):\n",
    "        print(\"===============\\n....Admin Previlages....\\n================\\n\")\n",
    "        for p in self.previlages:\n",
    "            print(f\"{self.previlages.index(p)+1} --{p}\")\n",
    "            "
   ]
  },
  {
   "cell_type": "code",
   "execution_count": 158,
   "metadata": {},
   "outputs": [],
   "source": [
    "ao = Admin(\"shair\",\"dil\",\"n/a\",\"n/a\")"
   ]
  },
  {
   "cell_type": "code",
   "execution_count": 159,
   "metadata": {},
   "outputs": [
    {
     "data": {
      "text/plain": [
       "['can add post', 'can delete post', 'can ban user']"
      ]
     },
     "execution_count": 159,
     "metadata": {},
     "output_type": "execute_result"
    }
   ],
   "source": [
    "ao.previlages"
   ]
  },
  {
   "cell_type": "code",
   "execution_count": 160,
   "metadata": {},
   "outputs": [
    {
     "name": "stdout",
     "output_type": "stream",
     "text": [
      "===============\n",
      "....Admin Previlages....\n",
      "================\n",
      "\n",
      "1 --can add post\n",
      "2 --can delete post\n",
      "3 --can ban user\n"
     ]
    }
   ],
   "source": [
    "ao.show_previlages()"
   ]
  },
  {
   "cell_type": "markdown",
   "metadata": {},
   "source": [
    "## 9.8"
   ]
  },
  {
   "cell_type": "code",
   "execution_count": 8,
   "metadata": {},
   "outputs": [],
   "source": [
    "class Previlages():\n",
    "    def __init__(self,previlage = None):\n",
    "        previlages =[ \"can add post\", \"can delete post\", \"can ban user\"]\n",
    "        self.previlages =previlages\n",
    "        \n"
   ]
  },
  {
   "cell_type": "code",
   "execution_count": 17,
   "metadata": {},
   "outputs": [],
   "source": [
    "class Admin2(User):\n",
    "    def __init__(self,name, lastname, dob, email,login_atm=0,previlages =None):\n",
    "        super().__init__(name, lastname, dob, email,login_atm)\n",
    "        permission = Previlages()\n",
    "        self.previlages = Permission\n",
    "    def show_previlages(self):\n",
    "        print(\"===============\\n....Admin Previlages....\\n================\\n\")\n",
    "        for p in self.previlages:\n",
    "            print(f\"{self.previlages.index(p)+1} --{p}\")\n",
    "            "
   ]
  },
  {
   "cell_type": "code",
   "execution_count": 11,
   "metadata": {},
   "outputs": [],
   "source": [
    "d = Previlages()\n"
   ]
  },
  {
   "cell_type": "code",
   "execution_count": 12,
   "metadata": {},
   "outputs": [
    {
     "data": {
      "text/plain": [
       "['can add post', 'can delete post', 'can ban user']"
      ]
     },
     "execution_count": 12,
     "metadata": {},
     "output_type": "execute_result"
    }
   ],
   "source": [
    "d.previlages"
   ]
  },
  {
   "cell_type": "code",
   "execution_count": null,
   "metadata": {},
   "outputs": [],
   "source": [
    "user2 =Admin2(\"Naserullah\", \"khan\",\"n/a\",\"n/a\")"
   ]
  }
 ],
 "metadata": {
  "kernelspec": {
   "display_name": "Python 3",
   "language": "python",
   "name": "python3"
  },
  "language_info": {
   "codemirror_mode": {
    "name": "ipython",
    "version": 3
   },
   "file_extension": ".py",
   "mimetype": "text/x-python",
   "name": "python",
   "nbconvert_exporter": "python",
   "pygments_lexer": "ipython3",
   "version": "3.7.6"
  }
 },
 "nbformat": 4,
 "nbformat_minor": 4
}
