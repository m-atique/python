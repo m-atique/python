{
 "cells": [
  {
   "cell_type": "markdown",
   "metadata": {},
   "source": [
    "# Creating  & writing in new data file or text file"
   ]
  },
  {
   "cell_type": "code",
   "execution_count": 1,
   "metadata": {},
   "outputs": [],
   "source": [
    "with open(\"greet.txt\", \"w\") as welcome:\n",
    "    welcome.write(\"Hello  welcome to python\")"
   ]
  },
  {
   "cell_type": "markdown",
   "metadata": {},
   "source": [
    "## Reading data file and print "
   ]
  },
  {
   "cell_type": "code",
   "execution_count": 2,
   "metadata": {},
   "outputs": [
    {
     "name": "stdout",
     "output_type": "stream",
     "text": [
      "Hello  welcome to python\n"
     ]
    }
   ],
   "source": [
    "with open(\"greet.txt\", \"r\") as f:\n",
    "      text = f.read()\n",
    "print (text)"
   ]
  },
  {
   "cell_type": "markdown",
   "metadata": {},
   "source": [
    "## Adding new text in file "
   ]
  },
  {
   "cell_type": "code",
   "execution_count": 3,
   "metadata": {},
   "outputs": [],
   "source": [
    "with open(\"greet.txt\", \"a\") as f:\n",
    "    f.write(\"\\n This is first data file in python 03\")"
   ]
  },
  {
   "cell_type": "code",
   "execution_count": 4,
   "metadata": {},
   "outputs": [
    {
     "name": "stdout",
     "output_type": "stream",
     "text": [
      "Hello  welcome to python\n",
      " This is first data file in python 03\n"
     ]
    }
   ],
   "source": [
    "with open(\"greet.txt\", \"r\") as f:\n",
    "      text = f.read()\n",
    "print (text)"
   ]
  },
  {
   "cell_type": "markdown",
   "metadata": {},
   "source": [
    "## w+ and r+ modes\n",
    "thes function can read and write "
   ]
  },
  {
   "cell_type": "code",
   "execution_count": 5,
   "metadata": {},
   "outputs": [
    {
     "name": "stdout",
     "output_type": "stream",
     "text": [
      "\n"
     ]
    }
   ],
   "source": [
    "with open(\"greet.txt\", \"w+\") as f:\n",
    "    f.write(\"\\n This is read and write line\")\n",
    "    text = f.read()\n",
    "    print(text)                             #This will not print qnt thing because it start reading from end of line an so on"
   ]
  },
  {
   "cell_type": "code",
   "execution_count": 7,
   "metadata": {},
   "outputs": [
    {
     "name": "stdout",
     "output_type": "stream",
     "text": [
      "\n",
      " This is read and write line\n"
     ]
    }
   ],
   "source": [
    "with open(\"greet.txt\", \"w+\") as f:\n",
    "    f.write(\"\\n This is read and write line\")\n",
    "    f.seek(0)                                 # this function moves the read func. to start of line\n",
    "    print(f.read())"
   ]
  },
  {
   "cell_type": "code",
   "execution_count": 9,
   "metadata": {},
   "outputs": [
    {
     "name": "stdout",
     "output_type": "stream",
     "text": [
      "\n",
      " This is read and write line\n"
     ]
    }
   ],
   "source": [
    "with open(\"greet.txt\", \"r+\") as f:\n",
    "    f.write(\"\\n This is read and write line\")\n",
    "    f.seek(0)\n",
    "    text = f.read()\n",
    "    \n",
    "    print(text)                             "
   ]
  },
  {
   "cell_type": "code",
   "execution_count": null,
   "metadata": {},
   "outputs": [],
   "source": []
  }
 ],
 "metadata": {
  "kernelspec": {
   "display_name": "Python 3",
   "language": "python",
   "name": "python3"
  },
  "language_info": {
   "codemirror_mode": {
    "name": "ipython",
    "version": 3
   },
   "file_extension": ".py",
   "mimetype": "text/x-python",
   "name": "python",
   "nbconvert_exporter": "python",
   "pygments_lexer": "ipython3",
   "version": "3.7.6"
  }
 },
 "nbformat": 4,
 "nbformat_minor": 4
}
